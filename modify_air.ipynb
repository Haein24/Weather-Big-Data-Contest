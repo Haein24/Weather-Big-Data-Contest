{
 "cells": [
  {
   "cell_type": "code",
   "execution_count": 1,
   "id": "sitting-justice",
   "metadata": {},
   "outputs": [],
   "source": [
    "import pandas as pd\n",
    "from datetime import datetime,date\n",
    "import numpy as np"
   ]
  },
  {
   "cell_type": "code",
   "execution_count": 3,
   "id": "canadian-demographic",
   "metadata": {},
   "outputs": [],
   "source": [
    "data1 = pd.read_csv(\"D:/날씨_빅데이터/2018/2018_01.csv\")\n",
    "data2 = pd.read_csv(\"D:/날씨_빅데이터/2018/2018_02.csv\")\n",
    "data3 = pd.read_csv(\"D:/날씨_빅데이터/2018/2018_03.csv\")\n",
    "data4 = pd.read_csv(\"D:/날씨_빅데이터/2018/2018_04.csv\")\n",
    "data5 = pd.read_csv(\"D:/날씨_빅데이터/2019/2019_01.csv\")\n",
    "data6 = pd.read_csv(\"D:/날씨_빅데이터/2019/2019_02.csv\")\n",
    "data7 = pd.read_csv(\"D:/날씨_빅데이터/2019/2019_03.csv\")\n",
    "data8 = pd.read_csv(\"D:/날씨_빅데이터/2019/2019_04.csv\")\n",
    "data9 = pd.read_csv(\"D:/날씨_빅데이터/2019/2019_05.csv\")\n",
    "data10 = pd.read_csv(\"D:/날씨_빅데이터/2019/2019_06.csv\")\n",
    "data11 = pd.read_csv(\"D:/날씨_빅데이터/2019/2019_07.csv\")\n",
    "data12 = pd.read_csv(\"D:/날씨_빅데이터/2019/2019_08.csv\")\n",
    "data13 = pd.read_csv(\"D:/날씨_빅데이터/2019/2019_09.csv\")\n",
    "data14 = pd.read_csv(\"D:/날씨_빅데이터/2019/2019_10.csv\")\n",
    "data15 = pd.read_csv(\"D:/날씨_빅데이터/2019/2019_11.csv\")\n",
    "data16 = pd.read_csv(\"D:/날씨_빅데이터/2019/2019_12.csv\")"
   ]
  },
  {
   "cell_type": "code",
   "execution_count": 4,
   "id": "wooden-affiliate",
   "metadata": {},
   "outputs": [
    {
     "data": {
      "text/html": [
       "<div>\n",
       "<style scoped>\n",
       "    .dataframe tbody tr th:only-of-type {\n",
       "        vertical-align: middle;\n",
       "    }\n",
       "\n",
       "    .dataframe tbody tr th {\n",
       "        vertical-align: top;\n",
       "    }\n",
       "\n",
       "    .dataframe thead th {\n",
       "        text-align: right;\n",
       "    }\n",
       "</style>\n",
       "<table border=\"1\" class=\"dataframe\">\n",
       "  <thead>\n",
       "    <tr style=\"text-align: right;\">\n",
       "      <th></th>\n",
       "      <th>지역</th>\n",
       "      <th>측정소코드</th>\n",
       "      <th>측정일시</th>\n",
       "      <th>PM10</th>\n",
       "      <th>PM25</th>\n",
       "    </tr>\n",
       "  </thead>\n",
       "  <tbody>\n",
       "    <tr>\n",
       "      <th>0</th>\n",
       "      <td>서울 중구</td>\n",
       "      <td>111121</td>\n",
       "      <td>2018010101</td>\n",
       "      <td>34.0</td>\n",
       "      <td>19.0</td>\n",
       "    </tr>\n",
       "    <tr>\n",
       "      <th>1</th>\n",
       "      <td>서울 중구</td>\n",
       "      <td>111121</td>\n",
       "      <td>2018010102</td>\n",
       "      <td>27.0</td>\n",
       "      <td>14.0</td>\n",
       "    </tr>\n",
       "    <tr>\n",
       "      <th>2</th>\n",
       "      <td>서울 중구</td>\n",
       "      <td>111121</td>\n",
       "      <td>2018010103</td>\n",
       "      <td>26.0</td>\n",
       "      <td>14.0</td>\n",
       "    </tr>\n",
       "    <tr>\n",
       "      <th>3</th>\n",
       "      <td>서울 중구</td>\n",
       "      <td>111121</td>\n",
       "      <td>2018010104</td>\n",
       "      <td>26.0</td>\n",
       "      <td>15.0</td>\n",
       "    </tr>\n",
       "    <tr>\n",
       "      <th>4</th>\n",
       "      <td>서울 중구</td>\n",
       "      <td>111121</td>\n",
       "      <td>2018010105</td>\n",
       "      <td>28.0</td>\n",
       "      <td>16.0</td>\n",
       "    </tr>\n",
       "  </tbody>\n",
       "</table>\n",
       "</div>"
      ],
      "text/plain": [
       "      지역   측정소코드        측정일시  PM10  PM25\n",
       "0  서울 중구  111121  2018010101  34.0  19.0\n",
       "1  서울 중구  111121  2018010102  27.0  14.0\n",
       "2  서울 중구  111121  2018010103  26.0  14.0\n",
       "3  서울 중구  111121  2018010104  26.0  15.0\n",
       "4  서울 중구  111121  2018010105  28.0  16.0"
      ]
     },
     "execution_count": 4,
     "metadata": {},
     "output_type": "execute_result"
    }
   ],
   "source": [
    "data1.head()"
   ]
  },
  {
   "cell_type": "code",
   "execution_count": 5,
   "id": "stainless-bulgaria",
   "metadata": {},
   "outputs": [],
   "source": [
    "df = pd.concat([data1, data2, data3, data4, data5, data6, data7, data8, data9,\n",
    "               data10, data11, data12, data13, data14, data15, data16])"
   ]
  },
  {
   "cell_type": "code",
   "execution_count": 7,
   "id": "crazy-sculpture",
   "metadata": {},
   "outputs": [
    {
     "data": {
      "text/html": [
       "<div>\n",
       "<style scoped>\n",
       "    .dataframe tbody tr th:only-of-type {\n",
       "        vertical-align: middle;\n",
       "    }\n",
       "\n",
       "    .dataframe tbody tr th {\n",
       "        vertical-align: top;\n",
       "    }\n",
       "\n",
       "    .dataframe thead th {\n",
       "        text-align: right;\n",
       "    }\n",
       "</style>\n",
       "<table border=\"1\" class=\"dataframe\">\n",
       "  <thead>\n",
       "    <tr style=\"text-align: right;\">\n",
       "      <th></th>\n",
       "      <th>지역</th>\n",
       "      <th>측정소코드</th>\n",
       "      <th>측정일시</th>\n",
       "      <th>PM10</th>\n",
       "      <th>PM25</th>\n",
       "    </tr>\n",
       "  </thead>\n",
       "  <tbody>\n",
       "    <tr>\n",
       "      <th>0</th>\n",
       "      <td>서울 중구</td>\n",
       "      <td>111121</td>\n",
       "      <td>2018010101</td>\n",
       "      <td>34.0</td>\n",
       "      <td>19.0</td>\n",
       "    </tr>\n",
       "    <tr>\n",
       "      <th>1</th>\n",
       "      <td>서울 중구</td>\n",
       "      <td>111121</td>\n",
       "      <td>2018010102</td>\n",
       "      <td>27.0</td>\n",
       "      <td>14.0</td>\n",
       "    </tr>\n",
       "    <tr>\n",
       "      <th>2</th>\n",
       "      <td>서울 중구</td>\n",
       "      <td>111121</td>\n",
       "      <td>2018010103</td>\n",
       "      <td>26.0</td>\n",
       "      <td>14.0</td>\n",
       "    </tr>\n",
       "    <tr>\n",
       "      <th>3</th>\n",
       "      <td>서울 중구</td>\n",
       "      <td>111121</td>\n",
       "      <td>2018010104</td>\n",
       "      <td>26.0</td>\n",
       "      <td>15.0</td>\n",
       "    </tr>\n",
       "    <tr>\n",
       "      <th>4</th>\n",
       "      <td>서울 중구</td>\n",
       "      <td>111121</td>\n",
       "      <td>2018010105</td>\n",
       "      <td>28.0</td>\n",
       "      <td>16.0</td>\n",
       "    </tr>\n",
       "  </tbody>\n",
       "</table>\n",
       "</div>"
      ],
      "text/plain": [
       "      지역   측정소코드        측정일시  PM10  PM25\n",
       "0  서울 중구  111121  2018010101  34.0  19.0\n",
       "1  서울 중구  111121  2018010102  27.0  14.0\n",
       "2  서울 중구  111121  2018010103  26.0  14.0\n",
       "3  서울 중구  111121  2018010104  26.0  15.0\n",
       "4  서울 중구  111121  2018010105  28.0  16.0"
      ]
     },
     "execution_count": 7,
     "metadata": {},
     "output_type": "execute_result"
    }
   ],
   "source": [
    "df.head()"
   ]
  },
  {
   "cell_type": "code",
   "execution_count": 5,
   "id": "knowing-export",
   "metadata": {},
   "outputs": [],
   "source": [
    "df = df.loc[:,['지역', '측정소코드', '측정일시', 'PM10', 'PM25']]"
   ]
  },
  {
   "cell_type": "code",
   "execution_count": 6,
   "id": "unlike-citizenship",
   "metadata": {},
   "outputs": [],
   "source": [
    "df = df.dropna(axis=0)"
   ]
  },
  {
   "cell_type": "code",
   "execution_count": 8,
   "id": "collect-digit",
   "metadata": {
    "scrolled": true
   },
   "outputs": [
    {
     "data": {
      "text/plain": [
       "(7272133, 5)"
      ]
     },
     "execution_count": 8,
     "metadata": {},
     "output_type": "execute_result"
    }
   ],
   "source": [
    "df.shape"
   ]
  },
  {
   "cell_type": "code",
   "execution_count": 9,
   "id": "specific-desert",
   "metadata": {},
   "outputs": [],
   "source": [
    "df['date'] = df['측정일시'].astype(str)\n",
    "df['date'] = df['date'].str[0:8]"
   ]
  },
  {
   "cell_type": "code",
   "execution_count": 10,
   "id": "rolled-database",
   "metadata": {
    "scrolled": true
   },
   "outputs": [
    {
     "data": {
      "text/html": [
       "<div>\n",
       "<style scoped>\n",
       "    .dataframe tbody tr th:only-of-type {\n",
       "        vertical-align: middle;\n",
       "    }\n",
       "\n",
       "    .dataframe tbody tr th {\n",
       "        vertical-align: top;\n",
       "    }\n",
       "\n",
       "    .dataframe thead th {\n",
       "        text-align: right;\n",
       "    }\n",
       "</style>\n",
       "<table border=\"1\" class=\"dataframe\">\n",
       "  <thead>\n",
       "    <tr style=\"text-align: right;\">\n",
       "      <th></th>\n",
       "      <th>지역</th>\n",
       "      <th>측정소코드</th>\n",
       "      <th>측정일시</th>\n",
       "      <th>PM10</th>\n",
       "      <th>PM25</th>\n",
       "      <th>date</th>\n",
       "    </tr>\n",
       "  </thead>\n",
       "  <tbody>\n",
       "    <tr>\n",
       "      <th>0</th>\n",
       "      <td>서울 중구</td>\n",
       "      <td>111121</td>\n",
       "      <td>2018010101</td>\n",
       "      <td>34.0</td>\n",
       "      <td>19.0</td>\n",
       "      <td>20180101</td>\n",
       "    </tr>\n",
       "    <tr>\n",
       "      <th>1</th>\n",
       "      <td>서울 중구</td>\n",
       "      <td>111121</td>\n",
       "      <td>2018010102</td>\n",
       "      <td>27.0</td>\n",
       "      <td>14.0</td>\n",
       "      <td>20180101</td>\n",
       "    </tr>\n",
       "    <tr>\n",
       "      <th>2</th>\n",
       "      <td>서울 중구</td>\n",
       "      <td>111121</td>\n",
       "      <td>2018010103</td>\n",
       "      <td>26.0</td>\n",
       "      <td>14.0</td>\n",
       "      <td>20180101</td>\n",
       "    </tr>\n",
       "    <tr>\n",
       "      <th>3</th>\n",
       "      <td>서울 중구</td>\n",
       "      <td>111121</td>\n",
       "      <td>2018010104</td>\n",
       "      <td>26.0</td>\n",
       "      <td>15.0</td>\n",
       "      <td>20180101</td>\n",
       "    </tr>\n",
       "    <tr>\n",
       "      <th>4</th>\n",
       "      <td>서울 중구</td>\n",
       "      <td>111121</td>\n",
       "      <td>2018010105</td>\n",
       "      <td>28.0</td>\n",
       "      <td>16.0</td>\n",
       "      <td>20180101</td>\n",
       "    </tr>\n",
       "  </tbody>\n",
       "</table>\n",
       "</div>"
      ],
      "text/plain": [
       "      지역   측정소코드        측정일시  PM10  PM25      date\n",
       "0  서울 중구  111121  2018010101  34.0  19.0  20180101\n",
       "1  서울 중구  111121  2018010102  27.0  14.0  20180101\n",
       "2  서울 중구  111121  2018010103  26.0  14.0  20180101\n",
       "3  서울 중구  111121  2018010104  26.0  15.0  20180101\n",
       "4  서울 중구  111121  2018010105  28.0  16.0  20180101"
      ]
     },
     "execution_count": 10,
     "metadata": {},
     "output_type": "execute_result"
    }
   ],
   "source": [
    "df.head()"
   ]
  },
  {
   "cell_type": "code",
   "execution_count": 11,
   "id": "damaged-washer",
   "metadata": {},
   "outputs": [],
   "source": [
    "df['date'] = pd.to_datetime(df['date']).dt.date"
   ]
  },
  {
   "cell_type": "code",
   "execution_count": 12,
   "id": "valuable-stephen",
   "metadata": {},
   "outputs": [],
   "source": [
    "df = df.loc[:,['지역', 'date', 'PM10', 'PM25']]"
   ]
  },
  {
   "cell_type": "code",
   "execution_count": 13,
   "id": "purple-carolina",
   "metadata": {},
   "outputs": [],
   "source": [
    "data = df.groupby(['지역', 'date'], as_index=False).mean()"
   ]
  },
  {
   "cell_type": "code",
   "execution_count": 14,
   "id": "adopted-parker",
   "metadata": {},
   "outputs": [
    {
     "data": {
      "text/html": [
       "<div>\n",
       "<style scoped>\n",
       "    .dataframe tbody tr th:only-of-type {\n",
       "        vertical-align: middle;\n",
       "    }\n",
       "\n",
       "    .dataframe tbody tr th {\n",
       "        vertical-align: top;\n",
       "    }\n",
       "\n",
       "    .dataframe thead th {\n",
       "        text-align: right;\n",
       "    }\n",
       "</style>\n",
       "<table border=\"1\" class=\"dataframe\">\n",
       "  <thead>\n",
       "    <tr style=\"text-align: right;\">\n",
       "      <th></th>\n",
       "      <th>지역</th>\n",
       "      <th>date</th>\n",
       "      <th>PM10</th>\n",
       "      <th>PM25</th>\n",
       "    </tr>\n",
       "  </thead>\n",
       "  <tbody>\n",
       "    <tr>\n",
       "      <th>0</th>\n",
       "      <td>강원 강릉시</td>\n",
       "      <td>2018-01-01</td>\n",
       "      <td>17.625000</td>\n",
       "      <td>13.400000</td>\n",
       "    </tr>\n",
       "    <tr>\n",
       "      <th>1</th>\n",
       "      <td>강원 강릉시</td>\n",
       "      <td>2018-01-02</td>\n",
       "      <td>36.500000</td>\n",
       "      <td>22.869565</td>\n",
       "    </tr>\n",
       "    <tr>\n",
       "      <th>2</th>\n",
       "      <td>강원 강릉시</td>\n",
       "      <td>2018-01-03</td>\n",
       "      <td>17.166667</td>\n",
       "      <td>12.722222</td>\n",
       "    </tr>\n",
       "    <tr>\n",
       "      <th>3</th>\n",
       "      <td>강원 강릉시</td>\n",
       "      <td>2018-01-04</td>\n",
       "      <td>21.833333</td>\n",
       "      <td>14.809524</td>\n",
       "    </tr>\n",
       "    <tr>\n",
       "      <th>4</th>\n",
       "      <td>강원 강릉시</td>\n",
       "      <td>2018-01-05</td>\n",
       "      <td>21.125000</td>\n",
       "      <td>24.928571</td>\n",
       "    </tr>\n",
       "    <tr>\n",
       "      <th>...</th>\n",
       "      <td>...</td>\n",
       "      <td>...</td>\n",
       "      <td>...</td>\n",
       "      <td>...</td>\n",
       "    </tr>\n",
       "    <tr>\n",
       "      <th>148863</th>\n",
       "      <td>충북 충주시</td>\n",
       "      <td>2019-12-27</td>\n",
       "      <td>37.687500</td>\n",
       "      <td>19.125000</td>\n",
       "    </tr>\n",
       "    <tr>\n",
       "      <th>148864</th>\n",
       "      <td>충북 충주시</td>\n",
       "      <td>2019-12-28</td>\n",
       "      <td>45.333333</td>\n",
       "      <td>21.875000</td>\n",
       "    </tr>\n",
       "    <tr>\n",
       "      <th>148865</th>\n",
       "      <td>충북 충주시</td>\n",
       "      <td>2019-12-29</td>\n",
       "      <td>52.250000</td>\n",
       "      <td>30.791667</td>\n",
       "    </tr>\n",
       "    <tr>\n",
       "      <th>148866</th>\n",
       "      <td>충북 충주시</td>\n",
       "      <td>2019-12-30</td>\n",
       "      <td>37.583333</td>\n",
       "      <td>26.625000</td>\n",
       "    </tr>\n",
       "    <tr>\n",
       "      <th>148867</th>\n",
       "      <td>충북 충주시</td>\n",
       "      <td>2019-12-31</td>\n",
       "      <td>28.520833</td>\n",
       "      <td>12.791667</td>\n",
       "    </tr>\n",
       "  </tbody>\n",
       "</table>\n",
       "<p>148868 rows × 4 columns</p>\n",
       "</div>"
      ],
      "text/plain": [
       "            지역        date       PM10       PM25\n",
       "0       강원 강릉시  2018-01-01  17.625000  13.400000\n",
       "1       강원 강릉시  2018-01-02  36.500000  22.869565\n",
       "2       강원 강릉시  2018-01-03  17.166667  12.722222\n",
       "3       강원 강릉시  2018-01-04  21.833333  14.809524\n",
       "4       강원 강릉시  2018-01-05  21.125000  24.928571\n",
       "...        ...         ...        ...        ...\n",
       "148863  충북 충주시  2019-12-27  37.687500  19.125000\n",
       "148864  충북 충주시  2019-12-28  45.333333  21.875000\n",
       "148865  충북 충주시  2019-12-29  52.250000  30.791667\n",
       "148866  충북 충주시  2019-12-30  37.583333  26.625000\n",
       "148867  충북 충주시  2019-12-31  28.520833  12.791667\n",
       "\n",
       "[148868 rows x 4 columns]"
      ]
     },
     "execution_count": 14,
     "metadata": {},
     "output_type": "execute_result"
    }
   ],
   "source": [
    "data"
   ]
  },
  {
   "cell_type": "code",
   "execution_count": 14,
   "id": "alert-failing",
   "metadata": {},
   "outputs": [],
   "source": [
    "data.to_csv('D:/날씨_빅데이터/air/air_data.csv', encoding = 'utf-8')"
   ]
  },
  {
   "cell_type": "code",
   "execution_count": 15,
   "id": "mental-capacity",
   "metadata": {},
   "outputs": [],
   "source": [
    "data = pd.read_csv(\"D:/날씨_빅데이터/air/air_data.csv\")"
   ]
  },
  {
   "cell_type": "code",
   "execution_count": 16,
   "id": "faced-resource",
   "metadata": {},
   "outputs": [
    {
     "data": {
      "text/plain": [
       "울산 울주군     730\n",
       "경기 용인시     730\n",
       "부산 해운대구    730\n",
       "부산 동래구     730\n",
       "강원 춘천시     730\n",
       "          ... \n",
       "세종 부강면      61\n",
       "경남 산청군      61\n",
       "경남 창녕군      61\n",
       "경남 의령군      61\n",
       "경남 합천군      61\n",
       "Name: 지역, Length: 253, dtype: int64"
      ]
     },
     "execution_count": 16,
     "metadata": {},
     "output_type": "execute_result"
    }
   ],
   "source": [
    "data['지역'].value_counts()"
   ]
  },
  {
   "cell_type": "code",
   "execution_count": 17,
   "id": "fatty-apparatus",
   "metadata": {},
   "outputs": [],
   "source": [
    "region = data['지역'].value_counts()[data['지역'].value_counts() == 730].index.tolist()"
   ]
  },
  {
   "cell_type": "code",
   "execution_count": 18,
   "id": "written-minute",
   "metadata": {
    "scrolled": true
   },
   "outputs": [
    {
     "data": {
      "text/plain": [
       "['울산 울주군',\n",
       " '경기 용인시',\n",
       " '부산 해운대구',\n",
       " '부산 동래구',\n",
       " '강원 춘천시',\n",
       " '경기 과천시',\n",
       " '경기 광명시',\n",
       " '부산 강서구',\n",
       " '부산 기장군',\n",
       " '경기 시흥시',\n",
       " '울산 북구',\n",
       " '경기 화성시',\n",
       " '경남 진주시',\n",
       " '전북 전주시',\n",
       " '부산 사하구',\n",
       " '경기 안산시',\n",
       " '전북 고창군',\n",
       " '광주 북구',\n",
       " '경남 양산시',\n",
       " '인천 부평구',\n",
       " '경기 부천시',\n",
       " '대구 동구',\n",
       " '경기 의정부시',\n",
       " '강원 원주시',\n",
       " '전북 정읍시',\n",
       " '경기 양평군',\n",
       " '경남 창원시',\n",
       " '울산 남구',\n",
       " '서울 영등포구',\n",
       " '경남 사천시',\n",
       " '경기 수원시',\n",
       " '경기 평택시',\n",
       " '광주 광산구',\n",
       " '대구 달서구',\n",
       " '부산 서구',\n",
       " '경기 군포시',\n",
       " '전북 익산시',\n",
       " '서울 중구',\n",
       " '전남 광양시',\n",
       " '대구 북구',\n",
       " '충북 청주시',\n",
       " '경기 안양시',\n",
       " '경기 성남시',\n",
       " '경기 파주시',\n",
       " '울산 중구',\n",
       " '대구 서구',\n",
       " '전남 여수시',\n",
       " '전북 군산시',\n",
       " '인천 서구',\n",
       " '경남 김해시',\n",
       " '경기 남양주시',\n",
       " '경기 광주시',\n",
       " '대구 중구',\n",
       " '대전 유성구',\n",
       " '경기 의왕시',\n",
       " '대전 서구',\n",
       " '경기 고양시',\n",
       " '대구 수성구',\n",
       " '세종 세종시',\n",
       " '충북 충주시',\n",
       " '경북 구미시',\n",
       " '경기 김포시',\n",
       " '서울 동대문구',\n",
       " '강원 삼척시',\n",
       " '부산 동구',\n",
       " '경북 포항시',\n",
       " '인천 남동구',\n",
       " '부산 금정구',\n",
       " '경기 포천시',\n",
       " '인천 동구']"
      ]
     },
     "execution_count": 18,
     "metadata": {},
     "output_type": "execute_result"
    }
   ],
   "source": [
    "region"
   ]
  },
  {
   "cell_type": "code",
   "execution_count": 19,
   "id": "innovative-roommate",
   "metadata": {},
   "outputs": [],
   "source": [
    "final = data[data['지역'].isin(region)]"
   ]
  },
  {
   "cell_type": "code",
   "execution_count": 20,
   "id": "increased-forest",
   "metadata": {},
   "outputs": [
    {
     "data": {
      "text/plain": [
       "경기 포천시    730\n",
       "전남 광양시    730\n",
       "인천 부평구    730\n",
       "전북 익산시    730\n",
       "경기 부천시    730\n",
       "         ... \n",
       "경기 파주시    730\n",
       "경기 성남시    730\n",
       "경기 의왕시    730\n",
       "인천 동구     730\n",
       "대구 중구     730\n",
       "Name: 지역, Length: 70, dtype: int64"
      ]
     },
     "execution_count": 20,
     "metadata": {},
     "output_type": "execute_result"
    }
   ],
   "source": [
    "final['지역'].value_counts()"
   ]
  },
  {
   "cell_type": "code",
   "execution_count": 21,
   "id": "closed-resource",
   "metadata": {},
   "outputs": [
    {
     "data": {
      "text/html": [
       "<div>\n",
       "<style scoped>\n",
       "    .dataframe tbody tr th:only-of-type {\n",
       "        vertical-align: middle;\n",
       "    }\n",
       "\n",
       "    .dataframe tbody tr th {\n",
       "        vertical-align: top;\n",
       "    }\n",
       "\n",
       "    .dataframe thead th {\n",
       "        text-align: right;\n",
       "    }\n",
       "</style>\n",
       "<table border=\"1\" class=\"dataframe\">\n",
       "  <thead>\n",
       "    <tr style=\"text-align: right;\">\n",
       "      <th></th>\n",
       "      <th>Unnamed: 0</th>\n",
       "      <th>지역</th>\n",
       "      <th>date</th>\n",
       "      <th>PM10</th>\n",
       "      <th>PM25</th>\n",
       "    </tr>\n",
       "  </thead>\n",
       "  <tbody>\n",
       "    <tr>\n",
       "      <th>1769</th>\n",
       "      <td>1769</td>\n",
       "      <td>강원 삼척시</td>\n",
       "      <td>2018-01-01</td>\n",
       "      <td>21.500000</td>\n",
       "      <td>12.909091</td>\n",
       "    </tr>\n",
       "    <tr>\n",
       "      <th>1770</th>\n",
       "      <td>1770</td>\n",
       "      <td>강원 삼척시</td>\n",
       "      <td>2018-01-02</td>\n",
       "      <td>44.772727</td>\n",
       "      <td>30.454545</td>\n",
       "    </tr>\n",
       "    <tr>\n",
       "      <th>1771</th>\n",
       "      <td>1771</td>\n",
       "      <td>강원 삼척시</td>\n",
       "      <td>2018-01-03</td>\n",
       "      <td>24.300000</td>\n",
       "      <td>15.650000</td>\n",
       "    </tr>\n",
       "    <tr>\n",
       "      <th>1772</th>\n",
       "      <td>1772</td>\n",
       "      <td>강원 삼척시</td>\n",
       "      <td>2018-01-04</td>\n",
       "      <td>22.590909</td>\n",
       "      <td>16.181818</td>\n",
       "    </tr>\n",
       "    <tr>\n",
       "      <th>1773</th>\n",
       "      <td>1773</td>\n",
       "      <td>강원 삼척시</td>\n",
       "      <td>2018-01-05</td>\n",
       "      <td>26.350000</td>\n",
       "      <td>19.100000</td>\n",
       "    </tr>\n",
       "  </tbody>\n",
       "</table>\n",
       "</div>"
      ],
      "text/plain": [
       "      Unnamed: 0      지역        date       PM10       PM25\n",
       "1769        1769  강원 삼척시  2018-01-01  21.500000  12.909091\n",
       "1770        1770  강원 삼척시  2018-01-02  44.772727  30.454545\n",
       "1771        1771  강원 삼척시  2018-01-03  24.300000  15.650000\n",
       "1772        1772  강원 삼척시  2018-01-04  22.590909  16.181818\n",
       "1773        1773  강원 삼척시  2018-01-05  26.350000  19.100000"
      ]
     },
     "execution_count": 21,
     "metadata": {},
     "output_type": "execute_result"
    }
   ],
   "source": [
    "final.head()"
   ]
  },
  {
   "cell_type": "code",
   "execution_count": 22,
   "id": "smooth-karaoke",
   "metadata": {},
   "outputs": [],
   "source": [
    "final = final.loc[:,['지역', 'date', 'PM10', 'PM25']]"
   ]
  },
  {
   "cell_type": "code",
   "execution_count": 23,
   "id": "french-rainbow",
   "metadata": {},
   "outputs": [],
   "source": [
    "final = final.reset_index(drop = True, inplace=False)"
   ]
  },
  {
   "cell_type": "code",
   "execution_count": 24,
   "id": "desperate-nightlife",
   "metadata": {},
   "outputs": [
    {
     "data": {
      "text/html": [
       "<div>\n",
       "<style scoped>\n",
       "    .dataframe tbody tr th:only-of-type {\n",
       "        vertical-align: middle;\n",
       "    }\n",
       "\n",
       "    .dataframe tbody tr th {\n",
       "        vertical-align: top;\n",
       "    }\n",
       "\n",
       "    .dataframe thead th {\n",
       "        text-align: right;\n",
       "    }\n",
       "</style>\n",
       "<table border=\"1\" class=\"dataframe\">\n",
       "  <thead>\n",
       "    <tr style=\"text-align: right;\">\n",
       "      <th></th>\n",
       "      <th>지역</th>\n",
       "      <th>date</th>\n",
       "      <th>PM10</th>\n",
       "      <th>PM25</th>\n",
       "    </tr>\n",
       "  </thead>\n",
       "  <tbody>\n",
       "    <tr>\n",
       "      <th>0</th>\n",
       "      <td>강원 삼척시</td>\n",
       "      <td>2018-01-01</td>\n",
       "      <td>21.500000</td>\n",
       "      <td>12.909091</td>\n",
       "    </tr>\n",
       "    <tr>\n",
       "      <th>1</th>\n",
       "      <td>강원 삼척시</td>\n",
       "      <td>2018-01-02</td>\n",
       "      <td>44.772727</td>\n",
       "      <td>30.454545</td>\n",
       "    </tr>\n",
       "    <tr>\n",
       "      <th>2</th>\n",
       "      <td>강원 삼척시</td>\n",
       "      <td>2018-01-03</td>\n",
       "      <td>24.300000</td>\n",
       "      <td>15.650000</td>\n",
       "    </tr>\n",
       "    <tr>\n",
       "      <th>3</th>\n",
       "      <td>강원 삼척시</td>\n",
       "      <td>2018-01-04</td>\n",
       "      <td>22.590909</td>\n",
       "      <td>16.181818</td>\n",
       "    </tr>\n",
       "    <tr>\n",
       "      <th>4</th>\n",
       "      <td>강원 삼척시</td>\n",
       "      <td>2018-01-05</td>\n",
       "      <td>26.350000</td>\n",
       "      <td>19.100000</td>\n",
       "    </tr>\n",
       "    <tr>\n",
       "      <th>...</th>\n",
       "      <td>...</td>\n",
       "      <td>...</td>\n",
       "      <td>...</td>\n",
       "      <td>...</td>\n",
       "    </tr>\n",
       "    <tr>\n",
       "      <th>51095</th>\n",
       "      <td>충북 충주시</td>\n",
       "      <td>2019-12-27</td>\n",
       "      <td>37.687500</td>\n",
       "      <td>19.125000</td>\n",
       "    </tr>\n",
       "    <tr>\n",
       "      <th>51096</th>\n",
       "      <td>충북 충주시</td>\n",
       "      <td>2019-12-28</td>\n",
       "      <td>45.333333</td>\n",
       "      <td>21.875000</td>\n",
       "    </tr>\n",
       "    <tr>\n",
       "      <th>51097</th>\n",
       "      <td>충북 충주시</td>\n",
       "      <td>2019-12-29</td>\n",
       "      <td>52.250000</td>\n",
       "      <td>30.791667</td>\n",
       "    </tr>\n",
       "    <tr>\n",
       "      <th>51098</th>\n",
       "      <td>충북 충주시</td>\n",
       "      <td>2019-12-30</td>\n",
       "      <td>37.583333</td>\n",
       "      <td>26.625000</td>\n",
       "    </tr>\n",
       "    <tr>\n",
       "      <th>51099</th>\n",
       "      <td>충북 충주시</td>\n",
       "      <td>2019-12-31</td>\n",
       "      <td>28.520833</td>\n",
       "      <td>12.791667</td>\n",
       "    </tr>\n",
       "  </tbody>\n",
       "</table>\n",
       "<p>51100 rows × 4 columns</p>\n",
       "</div>"
      ],
      "text/plain": [
       "           지역        date       PM10       PM25\n",
       "0      강원 삼척시  2018-01-01  21.500000  12.909091\n",
       "1      강원 삼척시  2018-01-02  44.772727  30.454545\n",
       "2      강원 삼척시  2018-01-03  24.300000  15.650000\n",
       "3      강원 삼척시  2018-01-04  22.590909  16.181818\n",
       "4      강원 삼척시  2018-01-05  26.350000  19.100000\n",
       "...       ...         ...        ...        ...\n",
       "51095  충북 충주시  2019-12-27  37.687500  19.125000\n",
       "51096  충북 충주시  2019-12-28  45.333333  21.875000\n",
       "51097  충북 충주시  2019-12-29  52.250000  30.791667\n",
       "51098  충북 충주시  2019-12-30  37.583333  26.625000\n",
       "51099  충북 충주시  2019-12-31  28.520833  12.791667\n",
       "\n",
       "[51100 rows x 4 columns]"
      ]
     },
     "execution_count": 24,
     "metadata": {},
     "output_type": "execute_result"
    }
   ],
   "source": [
    "final"
   ]
  },
  {
   "cell_type": "code",
   "execution_count": 24,
   "id": "composite-assurance",
   "metadata": {},
   "outputs": [],
   "source": [
    "final.to_csv('D:/날씨_빅데이터/air/air_final.csv')"
   ]
  }
 ],
 "metadata": {
  "kernelspec": {
   "display_name": "Python 3",
   "language": "python",
   "name": "python3"
  },
  "language_info": {
   "codemirror_mode": {
    "name": "ipython",
    "version": 3
   },
   "file_extension": ".py",
   "mimetype": "text/x-python",
   "name": "python",
   "nbconvert_exporter": "python",
   "pygments_lexer": "ipython3",
   "version": "3.6.9"
  }
 },
 "nbformat": 4,
 "nbformat_minor": 5
}
